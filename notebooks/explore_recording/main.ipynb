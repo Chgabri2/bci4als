{
 "cells": [
  {
   "cell_type": "markdown",
   "metadata": {
    "collapsed": true,
    "pycharm": {
     "name": "#%% md\n"
    }
   },
   "source": [
    "\n",
    "# Motor Imagery Left/Right Classification Using Machine Learning\n",
    "## BCI-4-ALS, Ben Gurion University, 2020\n",
    "## Evyatar Luvaton, Noam Siegel"
   ]
  },
  {
   "cell_type": "code",
   "execution_count": 8,
   "metadata": {
    "pycharm": {
     "name": "#%%\n"
    }
   },
   "outputs": [],
   "source": [
    "import mne\n",
    "import os\n",
    "import numpy as np\n",
    "import pyxdf\n",
    "import matplotlib.pyplot as plt\n",
    "import pandas as pd\n",
    "import seaborn as sns\n",
    "import pickle"
   ]
  },
  {
   "cell_type": "code",
   "execution_count": 9,
   "metadata": {
    "pycharm": {
     "name": "#%%\n"
    }
   },
   "outputs": [
    {
     "data": {
      "text/plain": "                time           C03           C04           P07           P08  \\\n0      103996.122633  8.731149e-11  6.548362e-11  4.365575e-11  1.127773e-10   \n1      103996.142212  1.371136e+03  1.678361e+03 -1.415517e+03 -1.110947e+03   \n2      103996.161791  1.363905e+03  1.177169e+03 -1.753693e+03 -1.392735e+03   \n3      103996.181370  7.304800e+02 -4.459875e+02 -1.253187e+03 -1.121207e+03   \n4      103996.200949  7.516594e+02 -1.175286e+03 -9.488719e+02 -1.007062e+03   \n...              ...           ...           ...           ...           ...   \n45460  104886.187533 -1.221269e+03 -2.859617e+03  8.235381e+02  4.594774e+02   \n45461  104886.207112 -1.040322e+03 -2.890784e+03  9.706271e+02  6.946798e+02   \n45462  104886.226691 -1.144518e+03 -3.751398e+03  1.500164e+03  1.078181e+03   \n45463  104886.246270 -9.198993e+02 -3.162876e+03  1.351024e+03  9.232647e+02   \n45464  104886.265849  1.059561e-10  6.502887e-11 -6.298251e-11  2.160050e-10   \n\n                O01           O02           F07           F08           F03  \\\n0      1.709850e-10  3.747118e-10  1.418812e-10 -3.528839e-10 -6.548362e-11   \n1      1.676698e+02 -1.576014e+03  7.923541e+02  8.147634e+02  2.645898e+02   \n2      1.653558e+02 -1.973372e+03  7.749827e+02  7.085918e+02  1.085628e+02   \n3      1.725543e+02 -1.547435e+03  4.039431e+02  8.745306e+01 -2.638303e+02   \n4      3.673273e+02 -1.336427e+03  4.471520e+02 -8.412715e+01 -4.445941e+02   \n...             ...           ...           ...           ...           ...   \n45460  3.920285e+01  8.071376e+02 -4.748312e+02 -4.534976e+02 -2.805246e+02   \n45461  1.306868e+01  8.793917e+02 -3.485861e+02 -2.719014e+02  2.005866e+00   \n45462  1.213641e+02  1.274233e+03 -3.584175e+02 -2.043795e+02  1.807978e+02   \n45463  1.618687e+02  1.117398e+03 -2.804576e+02 -1.405540e+02  1.638045e+02   \n45464  1.517719e-10  2.683009e-10  1.153921e-11 -7.617018e-11 -6.798473e-11   \n\n                F04           T07           T08           P03  \n0      1.127773e-10 -9.276846e-11  1.491571e-10  9.131327e-10  \n1     -9.045393e+02  1.062757e+03 -3.844113e+02  7.624045e+02  \n2     -9.522255e+02  1.062665e+03 -5.556387e+02  8.471813e+02  \n3     -6.194985e+02  4.521167e+02 -6.538358e+02  5.241453e+02  \n4     -6.618809e+02  1.877961e+02 -8.180904e+02  4.116676e+02  \n...             ...           ...           ...           ...  \n45460  3.862447e+02 -9.543197e+02 -3.810792e+01 -7.377751e+02  \n45461  5.447326e+02 -9.705324e+02  1.754465e+02 -7.799073e+02  \n45462  1.037952e+03 -1.243742e+03  4.851935e+02 -9.032624e+02  \n45463  1.009438e+03 -1.029781e+03  4.746306e+02 -6.987258e+02  \n45464  6.230039e-11  1.351737e-10  1.185754e-10  1.959961e-10  \n\n[45465 rows x 14 columns]",
      "text/html": "<div>\n<style scoped>\n    .dataframe tbody tr th:only-of-type {\n        vertical-align: middle;\n    }\n\n    .dataframe tbody tr th {\n        vertical-align: top;\n    }\n\n    .dataframe thead th {\n        text-align: right;\n    }\n</style>\n<table border=\"1\" class=\"dataframe\">\n  <thead>\n    <tr style=\"text-align: right;\">\n      <th></th>\n      <th>time</th>\n      <th>C03</th>\n      <th>C04</th>\n      <th>P07</th>\n      <th>P08</th>\n      <th>O01</th>\n      <th>O02</th>\n      <th>F07</th>\n      <th>F08</th>\n      <th>F03</th>\n      <th>F04</th>\n      <th>T07</th>\n      <th>T08</th>\n      <th>P03</th>\n    </tr>\n  </thead>\n  <tbody>\n    <tr>\n      <th>0</th>\n      <td>103996.122633</td>\n      <td>8.731149e-11</td>\n      <td>6.548362e-11</td>\n      <td>4.365575e-11</td>\n      <td>1.127773e-10</td>\n      <td>1.709850e-10</td>\n      <td>3.747118e-10</td>\n      <td>1.418812e-10</td>\n      <td>-3.528839e-10</td>\n      <td>-6.548362e-11</td>\n      <td>1.127773e-10</td>\n      <td>-9.276846e-11</td>\n      <td>1.491571e-10</td>\n      <td>9.131327e-10</td>\n    </tr>\n    <tr>\n      <th>1</th>\n      <td>103996.142212</td>\n      <td>1.371136e+03</td>\n      <td>1.678361e+03</td>\n      <td>-1.415517e+03</td>\n      <td>-1.110947e+03</td>\n      <td>1.676698e+02</td>\n      <td>-1.576014e+03</td>\n      <td>7.923541e+02</td>\n      <td>8.147634e+02</td>\n      <td>2.645898e+02</td>\n      <td>-9.045393e+02</td>\n      <td>1.062757e+03</td>\n      <td>-3.844113e+02</td>\n      <td>7.624045e+02</td>\n    </tr>\n    <tr>\n      <th>2</th>\n      <td>103996.161791</td>\n      <td>1.363905e+03</td>\n      <td>1.177169e+03</td>\n      <td>-1.753693e+03</td>\n      <td>-1.392735e+03</td>\n      <td>1.653558e+02</td>\n      <td>-1.973372e+03</td>\n      <td>7.749827e+02</td>\n      <td>7.085918e+02</td>\n      <td>1.085628e+02</td>\n      <td>-9.522255e+02</td>\n      <td>1.062665e+03</td>\n      <td>-5.556387e+02</td>\n      <td>8.471813e+02</td>\n    </tr>\n    <tr>\n      <th>3</th>\n      <td>103996.181370</td>\n      <td>7.304800e+02</td>\n      <td>-4.459875e+02</td>\n      <td>-1.253187e+03</td>\n      <td>-1.121207e+03</td>\n      <td>1.725543e+02</td>\n      <td>-1.547435e+03</td>\n      <td>4.039431e+02</td>\n      <td>8.745306e+01</td>\n      <td>-2.638303e+02</td>\n      <td>-6.194985e+02</td>\n      <td>4.521167e+02</td>\n      <td>-6.538358e+02</td>\n      <td>5.241453e+02</td>\n    </tr>\n    <tr>\n      <th>4</th>\n      <td>103996.200949</td>\n      <td>7.516594e+02</td>\n      <td>-1.175286e+03</td>\n      <td>-9.488719e+02</td>\n      <td>-1.007062e+03</td>\n      <td>3.673273e+02</td>\n      <td>-1.336427e+03</td>\n      <td>4.471520e+02</td>\n      <td>-8.412715e+01</td>\n      <td>-4.445941e+02</td>\n      <td>-6.618809e+02</td>\n      <td>1.877961e+02</td>\n      <td>-8.180904e+02</td>\n      <td>4.116676e+02</td>\n    </tr>\n    <tr>\n      <th>...</th>\n      <td>...</td>\n      <td>...</td>\n      <td>...</td>\n      <td>...</td>\n      <td>...</td>\n      <td>...</td>\n      <td>...</td>\n      <td>...</td>\n      <td>...</td>\n      <td>...</td>\n      <td>...</td>\n      <td>...</td>\n      <td>...</td>\n      <td>...</td>\n    </tr>\n    <tr>\n      <th>45460</th>\n      <td>104886.187533</td>\n      <td>-1.221269e+03</td>\n      <td>-2.859617e+03</td>\n      <td>8.235381e+02</td>\n      <td>4.594774e+02</td>\n      <td>3.920285e+01</td>\n      <td>8.071376e+02</td>\n      <td>-4.748312e+02</td>\n      <td>-4.534976e+02</td>\n      <td>-2.805246e+02</td>\n      <td>3.862447e+02</td>\n      <td>-9.543197e+02</td>\n      <td>-3.810792e+01</td>\n      <td>-7.377751e+02</td>\n    </tr>\n    <tr>\n      <th>45461</th>\n      <td>104886.207112</td>\n      <td>-1.040322e+03</td>\n      <td>-2.890784e+03</td>\n      <td>9.706271e+02</td>\n      <td>6.946798e+02</td>\n      <td>1.306868e+01</td>\n      <td>8.793917e+02</td>\n      <td>-3.485861e+02</td>\n      <td>-2.719014e+02</td>\n      <td>2.005866e+00</td>\n      <td>5.447326e+02</td>\n      <td>-9.705324e+02</td>\n      <td>1.754465e+02</td>\n      <td>-7.799073e+02</td>\n    </tr>\n    <tr>\n      <th>45462</th>\n      <td>104886.226691</td>\n      <td>-1.144518e+03</td>\n      <td>-3.751398e+03</td>\n      <td>1.500164e+03</td>\n      <td>1.078181e+03</td>\n      <td>1.213641e+02</td>\n      <td>1.274233e+03</td>\n      <td>-3.584175e+02</td>\n      <td>-2.043795e+02</td>\n      <td>1.807978e+02</td>\n      <td>1.037952e+03</td>\n      <td>-1.243742e+03</td>\n      <td>4.851935e+02</td>\n      <td>-9.032624e+02</td>\n    </tr>\n    <tr>\n      <th>45463</th>\n      <td>104886.246270</td>\n      <td>-9.198993e+02</td>\n      <td>-3.162876e+03</td>\n      <td>1.351024e+03</td>\n      <td>9.232647e+02</td>\n      <td>1.618687e+02</td>\n      <td>1.117398e+03</td>\n      <td>-2.804576e+02</td>\n      <td>-1.405540e+02</td>\n      <td>1.638045e+02</td>\n      <td>1.009438e+03</td>\n      <td>-1.029781e+03</td>\n      <td>4.746306e+02</td>\n      <td>-6.987258e+02</td>\n    </tr>\n    <tr>\n      <th>45464</th>\n      <td>104886.265849</td>\n      <td>1.059561e-10</td>\n      <td>6.502887e-11</td>\n      <td>-6.298251e-11</td>\n      <td>2.160050e-10</td>\n      <td>1.517719e-10</td>\n      <td>2.683009e-10</td>\n      <td>1.153921e-11</td>\n      <td>-7.617018e-11</td>\n      <td>-6.798473e-11</td>\n      <td>6.230039e-11</td>\n      <td>1.351737e-10</td>\n      <td>1.185754e-10</td>\n      <td>1.959961e-10</td>\n    </tr>\n  </tbody>\n</table>\n<p>45465 rows × 14 columns</p>\n</div>"
     },
     "execution_count": 9,
     "metadata": {},
     "output_type": "execute_result"
    }
   ],
   "source": [
    "filename = \"EEG_clean.csv\"\n",
    "trials = pickle.load(open(\"EEG_trials.pickle\",\"rb\"))\n",
    "df = pd.read_csv(filename)\n",
    "df\n"
   ]
  },
  {
   "cell_type": "code",
   "metadata": {
    "pycharm": {
     "name": "#%%\n"
    }
   },
   "source": [
    "trials[0]"
   ],
   "execution_count": 13,
   "outputs": [
    {
     "data": {
      "text/plain": "             C03          C04          P07          P08          O01  \\\n0   -3302.841744  -527.113238 -1751.629982 -3028.002609 -1150.264133   \n1   -3476.598809  -374.010183 -1921.384939 -2960.333442 -1285.763940   \n2   -3529.930511  -188.276011 -1974.843829 -2843.402086 -1310.393892   \n3   -3399.023246  -243.389843 -1844.737200 -2668.386751 -1245.194616   \n4   -3207.547210  -576.896497 -1664.070501 -2577.656522 -1204.703374   \n..           ...          ...          ...          ...          ...   \n339  -568.126466  1919.155150    77.577581  1898.929804  1110.184750   \n340  -533.846433  1671.070675     7.996528  1734.255325  1102.872397   \n341  -603.371531  1416.194446   -46.578851  1400.674008   976.547911   \n342  -661.771022  1327.780540   -30.200857  1036.743919   921.032405   \n343  -624.985166  1397.443436    17.845623   770.477003  1024.904632   \n\n            O02          F07         F08           F03          F04  \\\n0   -243.225140   595.542343 -108.791697 -8.358256e-10  2247.702078   \n1     92.290538   807.877866   18.023087 -1.513399e-09  2305.348147   \n2    405.775326  1000.585774   88.879203  8.103598e-10  2163.961780   \n3    185.079792   945.767837   55.599084 -1.516128e-09  2030.093091   \n4   -371.282363   665.552606  -86.057565  9.085852e-10  2101.028754   \n..          ...          ...         ...           ...          ...   \n339 -282.421858    89.564492  304.658339 -2.328306e-10   969.921581   \n340 -519.647270    -3.527995  280.556484 -4.074536e-10  1088.117335   \n341 -459.181331    65.791423  230.916286  1.746230e-10   943.750282   \n342 -362.339162   186.394259  136.482916  5.820766e-10   708.503707   \n343 -453.242901   150.752395   24.793978 -1.222361e-09   653.462442   \n\n            T07          T08         P03  \n0    120.008637 -3706.485233 -310.841278  \n1    431.207579 -3654.969441 -396.690165  \n2    787.827163 -3751.548784 -476.237591  \n3    802.878688 -3774.474974 -475.522123  \n4    441.765137 -3588.023924 -406.052054  \n..          ...          ...         ...  \n339  -48.435832  2474.520090  598.114142  \n340 -296.703374  2597.861596  628.443576  \n341 -317.467966  2494.644345  504.237145  \n342 -207.745562  2274.994767  335.543169  \n343 -234.844729  2134.754431  246.091799  \n\n[344 rows x 13 columns]",
      "text/html": "<div>\n<style scoped>\n    .dataframe tbody tr th:only-of-type {\n        vertical-align: middle;\n    }\n\n    .dataframe tbody tr th {\n        vertical-align: top;\n    }\n\n    .dataframe thead th {\n        text-align: right;\n    }\n</style>\n<table border=\"1\" class=\"dataframe\">\n  <thead>\n    <tr style=\"text-align: right;\">\n      <th></th>\n      <th>C03</th>\n      <th>C04</th>\n      <th>P07</th>\n      <th>P08</th>\n      <th>O01</th>\n      <th>O02</th>\n      <th>F07</th>\n      <th>F08</th>\n      <th>F03</th>\n      <th>F04</th>\n      <th>T07</th>\n      <th>T08</th>\n      <th>P03</th>\n    </tr>\n  </thead>\n  <tbody>\n    <tr>\n      <th>0</th>\n      <td>-3302.841744</td>\n      <td>-527.113238</td>\n      <td>-1751.629982</td>\n      <td>-3028.002609</td>\n      <td>-1150.264133</td>\n      <td>-243.225140</td>\n      <td>595.542343</td>\n      <td>-108.791697</td>\n      <td>-8.358256e-10</td>\n      <td>2247.702078</td>\n      <td>120.008637</td>\n      <td>-3706.485233</td>\n      <td>-310.841278</td>\n    </tr>\n    <tr>\n      <th>1</th>\n      <td>-3476.598809</td>\n      <td>-374.010183</td>\n      <td>-1921.384939</td>\n      <td>-2960.333442</td>\n      <td>-1285.763940</td>\n      <td>92.290538</td>\n      <td>807.877866</td>\n      <td>18.023087</td>\n      <td>-1.513399e-09</td>\n      <td>2305.348147</td>\n      <td>431.207579</td>\n      <td>-3654.969441</td>\n      <td>-396.690165</td>\n    </tr>\n    <tr>\n      <th>2</th>\n      <td>-3529.930511</td>\n      <td>-188.276011</td>\n      <td>-1974.843829</td>\n      <td>-2843.402086</td>\n      <td>-1310.393892</td>\n      <td>405.775326</td>\n      <td>1000.585774</td>\n      <td>88.879203</td>\n      <td>8.103598e-10</td>\n      <td>2163.961780</td>\n      <td>787.827163</td>\n      <td>-3751.548784</td>\n      <td>-476.237591</td>\n    </tr>\n    <tr>\n      <th>3</th>\n      <td>-3399.023246</td>\n      <td>-243.389843</td>\n      <td>-1844.737200</td>\n      <td>-2668.386751</td>\n      <td>-1245.194616</td>\n      <td>185.079792</td>\n      <td>945.767837</td>\n      <td>55.599084</td>\n      <td>-1.516128e-09</td>\n      <td>2030.093091</td>\n      <td>802.878688</td>\n      <td>-3774.474974</td>\n      <td>-475.522123</td>\n    </tr>\n    <tr>\n      <th>4</th>\n      <td>-3207.547210</td>\n      <td>-576.896497</td>\n      <td>-1664.070501</td>\n      <td>-2577.656522</td>\n      <td>-1204.703374</td>\n      <td>-371.282363</td>\n      <td>665.552606</td>\n      <td>-86.057565</td>\n      <td>9.085852e-10</td>\n      <td>2101.028754</td>\n      <td>441.765137</td>\n      <td>-3588.023924</td>\n      <td>-406.052054</td>\n    </tr>\n    <tr>\n      <th>...</th>\n      <td>...</td>\n      <td>...</td>\n      <td>...</td>\n      <td>...</td>\n      <td>...</td>\n      <td>...</td>\n      <td>...</td>\n      <td>...</td>\n      <td>...</td>\n      <td>...</td>\n      <td>...</td>\n      <td>...</td>\n      <td>...</td>\n    </tr>\n    <tr>\n      <th>339</th>\n      <td>-568.126466</td>\n      <td>1919.155150</td>\n      <td>77.577581</td>\n      <td>1898.929804</td>\n      <td>1110.184750</td>\n      <td>-282.421858</td>\n      <td>89.564492</td>\n      <td>304.658339</td>\n      <td>-2.328306e-10</td>\n      <td>969.921581</td>\n      <td>-48.435832</td>\n      <td>2474.520090</td>\n      <td>598.114142</td>\n    </tr>\n    <tr>\n      <th>340</th>\n      <td>-533.846433</td>\n      <td>1671.070675</td>\n      <td>7.996528</td>\n      <td>1734.255325</td>\n      <td>1102.872397</td>\n      <td>-519.647270</td>\n      <td>-3.527995</td>\n      <td>280.556484</td>\n      <td>-4.074536e-10</td>\n      <td>1088.117335</td>\n      <td>-296.703374</td>\n      <td>2597.861596</td>\n      <td>628.443576</td>\n    </tr>\n    <tr>\n      <th>341</th>\n      <td>-603.371531</td>\n      <td>1416.194446</td>\n      <td>-46.578851</td>\n      <td>1400.674008</td>\n      <td>976.547911</td>\n      <td>-459.181331</td>\n      <td>65.791423</td>\n      <td>230.916286</td>\n      <td>1.746230e-10</td>\n      <td>943.750282</td>\n      <td>-317.467966</td>\n      <td>2494.644345</td>\n      <td>504.237145</td>\n    </tr>\n    <tr>\n      <th>342</th>\n      <td>-661.771022</td>\n      <td>1327.780540</td>\n      <td>-30.200857</td>\n      <td>1036.743919</td>\n      <td>921.032405</td>\n      <td>-362.339162</td>\n      <td>186.394259</td>\n      <td>136.482916</td>\n      <td>5.820766e-10</td>\n      <td>708.503707</td>\n      <td>-207.745562</td>\n      <td>2274.994767</td>\n      <td>335.543169</td>\n    </tr>\n    <tr>\n      <th>343</th>\n      <td>-624.985166</td>\n      <td>1397.443436</td>\n      <td>17.845623</td>\n      <td>770.477003</td>\n      <td>1024.904632</td>\n      <td>-453.242901</td>\n      <td>150.752395</td>\n      <td>24.793978</td>\n      <td>-1.222361e-09</td>\n      <td>653.462442</td>\n      <td>-234.844729</td>\n      <td>2134.754431</td>\n      <td>246.091799</td>\n    </tr>\n  </tbody>\n</table>\n<p>344 rows × 13 columns</p>\n</div>"
     },
     "execution_count": 13,
     "metadata": {},
     "output_type": "execute_result"
    }
   ]
  },
  {
   "cell_type": "markdown",
   "metadata": {},
   "source": [
    "## Hidden Code"
   ]
  },
  {
   "cell_type": "code",
   "execution_count": 10,
   "metadata": {},
   "outputs": [
    {
     "name": "stderr",
     "output_type": "stream",
     "text": [
      "Stream 1: Calculated effective sampling rate 51.0756 Hz is different from specified rate 125.0000 Hz.\n"
     ]
    }
   ],
   "source": [
    "data, header = pyxdf.load_xdf(\"EEG.xdf\")\n",
    "markers_dict = [d for d in data if d['info']['type'] == ['Markers']][0]\n",
    "eeg_dict = [d for d in data if d['info']['type'] == ['EEG']][0]\n"
   ]
  },
  {
   "cell_type": "code",
   "execution_count": 11,
   "metadata": {},
   "outputs": [
    {
     "name": "stdout",
     "output_type": "stream",
     "text": [
      "Opening raw data file C:\\Users\\noam\\mne_data\\MNE-sample-data\\MEG\\sample\\sample_audvis_filt-0-40_raw.fif...\n",
      "    Read a total of 4 projection items:\n",
      "        PCA-v1 (1 x 102)  idle\n",
      "        PCA-v2 (1 x 102)  idle\n",
      "        PCA-v3 (1 x 102)  idle\n",
      "        Average EEG reference (1 x 60)  idle\n",
      "    Range : 6450 ... 48149 =     42.956 ...   320.665 secs\n",
      "Ready.\n"
     ]
    }
   ],
   "source": [
    "\n",
    "sample_data_folder = mne.datasets.sample.data_path()\n",
    "sample_data_raw_file = os.path.join(sample_data_folder, 'MEG', 'sample',\n",
    "                                    'sample_audvis_filt-0-40_raw.fif')\n",
    "raw = mne.io.read_raw_fif(sample_data_raw_file)"
   ]
  },
  {
   "cell_type": "code",
   "execution_count": 11,
   "outputs": [],
   "source": [],
   "metadata": {
    "collapsed": false,
    "pycharm": {
     "name": "#%%\n"
    }
   }
  }
 ],
 "metadata": {
  "kernelspec": {
   "display_name": "PyCharm (BCI-4-ALS)",
   "language": "python",
   "name": "pycharm-9e5afe6b"
  },
  "language_info": {
   "codemirror_mode": {
    "name": "ipython",
    "version": 3
   },
   "file_extension": ".py",
   "mimetype": "text/x-python",
   "name": "python",
   "nbconvert_exporter": "python",
   "pygments_lexer": "ipython3",
   "version": "3.7.9"
  }
 },
 "nbformat": 4,
 "nbformat_minor": 1
}