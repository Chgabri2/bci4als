{
 "cells": [
  {
   "cell_type": "markdown",
   "metadata": {
    "collapsed": true,
    "pycharm": {
     "name": "#%% md\n"
    }
   },
   "source": [
    "# BCI-4-ALS\n",
    "\n",
    "## Mid-Semester Project\n",
    "\n",
    "### Project Overview\n",
    "\n",
    "Over the mid-semester project we have been integrated\n",
    "the different parts of BCI which been discussed in the course.\n",
    "The project focused on Motor Imagery interface which aims\n",
    "to classify between imagery of moving right hand, left hand and idle.\n",
    "\n",
    "Over the first part in the report we present the different\n",
    "codes we made for the MI classification. This part can be used\n",
    "as a `README` file for next years."
   ]
  },
  {
   "cell_type": "code",
   "execution_count": null,
   "outputs": [],
   "source": [
    "import yaml\n",
    "import pyxdf\n",
    "import os\n",
    "import numpy as np\n",
    "import mne"
   ],
   "metadata": {
    "collapsed": false,
    "pycharm": {
     "name": "#%% code\n"
    }
   }
  },
  {
   "cell_type": "markdown",
   "source": [
    "#### Configurations\n",
    "\n",
    "All the scripts using the `config.yaml` configuration file.\n",
    "The first of each script is to load the config file and use\n",
    "the parameters which relevant for the current part. The configuration\n",
    "file arranged to be easy to read and change. For example,\n",
    "we can get and set LabStreamingLayer parameters by:"
   ],
   "metadata": {
    "collapsed": false,
    "pycharm": {
     "name": "#%% md\n"
    }
   }
  },
  {
   "cell_type": "code",
   "execution_count": null,
   "outputs": [],
   "source": [
    "config = yaml.full_load(open('config.yaml', 'r'))\n",
    "lsl_params = config['lsl']\n",
    "\n",
    "print('\\n'.join('{}: {}'.format(k, v) for k, v in lsl_params.items()))\n"
   ],
   "metadata": {
    "collapsed": false,
    "pycharm": {
     "name": "#%% code\n"
    }
   }
  },
  {
   "cell_type": "markdown",
   "source": [
    "The configuration file centralize all the interface parameters into\n",
    "one file.\n",
    "\n",
    "#### MI1 - Record Experiment\n",
    "\n",
    "The `MI1_record_experiment.py` script responsible for the visualization\n",
    "of the experiment and recording it. The main function `record_experiment()` get\n",
    "paradigm (for now MI or SSVEP) and running experiment according given paradigm.\n",
    "For now we only partially implemented the SSVEP paradigm and focused on MI.\n",
    "We also implemented an interactive GUI which help the user for running an experiment.\n",
    "\n",
    "The `MI_record()` function is the main function for recording a MI experiment.\n",
    "The function create folder for the subject, initialize LSL stream,\n",
    "creating random stimulus vector and start presenting the subject the images.\n",
    "The function push before and after each image a marker to indicate the trial\n",
    "start and end. Parameters for this part can be change in the\n",
    "config file, such as the amount of trials, length of each trial, etc.\n",
    "\n",
    "The output of `MI1` is xdf file which contains the EEG and markers record.\n",
    "The second file is the stimulus vector which contains the order of the images\n",
    "the subject saw in the experiment (i.e., the y vector).\n",
    "The files' names are EEG.xdf and stimulus_vector.csv and both of the save in the subject directory.\n",
    "\n",
    "#### MI2 - Data Pre-Processing\n",
    "\n",
    "The `MI2_preprocess.py` script responsible for getting the subject's folder directory\n",
    "from the config file and for each day of recording cleans the data.\n",
    "Currently, the pre-processing script using low-pass, high-pass and notch filters to clean the data.\n",
    "The parameters for the filters are also part of the config\n",
    "file under `config['preprocess']['filter']`.\n",
    "\n",
    "The output of MI2 script is `EEG_clean.csv` file, which contains the EEG data\n",
    "after the pre-processed. Additionally, the script export a `.info` json file. The `.info` file\n",
    "contains all the info about the EEG stream. MI4 uses the info of the streaming.\n",
    "The output is automatically saves in the data directory.\n",
    "\n",
    "A plot of the clean EEG data seem as follows:"
   ],
   "metadata": {
    "collapsed": false,
    "pycharm": {
     "name": "#%% md\n"
    }
   }
  },
  {
   "cell_type": "code",
   "execution_count": null,
   "outputs": [],
   "source": [
    "# Params\n",
    "eeg_clean_path = '../data/noam/2/EEG_clean.csv'\n",
    "ch_names = ['C03', 'C04', 'P07', 'P089', 'O01', 'O02', 'F07', 'F08', 'F03', 'F04', 'T07', 'T08', 'P03']\n",
    "s_rate = 125\n",
    "\n",
    "# Create mne info & raw\n",
    "eeg_clean = np.genfromtxt(eeg_clean_path, delimiter=',', skip_header=1)[:, 1:]\n",
    "info = mne.create_info(ch_names, s_rate)\n",
    "raw_eeg_clean = mne.io.RawArray(eeg_clean.T, info)\n",
    "\n",
    "# Plot\n",
    "raw_eeg_clean.plot_psd(picks=ch_names)"
   ],
   "metadata": {
    "collapsed": false,
    "pycharm": {
     "name": "#%% code\n"
    }
   }
  }
 ],
 "metadata": {
  "kernelspec": {
   "display_name": "Python 3",
   "language": "python",
   "name": "python3"
  },
  "language_info": {
   "codemirror_mode": {
    "name": "ipython",
    "version": 2
   },
   "file_extension": ".py",
   "mimetype": "text/x-python",
   "name": "python",
   "nbconvert_exporter": "python",
   "pygments_lexer": "ipython2",
   "version": "2.7.6"
  }
 },
 "nbformat": 4,
 "nbformat_minor": 0
}