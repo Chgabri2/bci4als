{
 "cells": [
  {
   "cell_type": "markdown",
   "metadata": {
    "collapsed": true,
    "pycharm": {
     "name": "#%% md\n"
    }
   },
   "source": [
    "# Project Report: bci4als\n",
    "#### Authors: Evyatar Luvaton, Noam Siegel\n",
    "\n",
    "This software was developed for the course Brain-Computer-Interface for ALS Patients, December 2020.\n",
    "\n",
    "Over the mid-semester project we have integrated the different parts of BCI which been discussed in the course.\n",
    "We introduce bci4als, a complete pipeline for EEG motor imagery data recording and classification.\n",
    "\n",
    "The pipeline is general, so it can be extended to other BCI settings like P300, SSVEP.\n",
    "\n",
    "The first part of this report presents the python package bci4als.\n"
   ]
  },
  {
   "cell_type": "markdown",
   "metadata": {},
   "source": [
    "## Preliminaries\n",
    "\n",
    "First, go ahead and install bci4als (if you haven't already done so)."
   ]
  },
  {
   "cell_type": "code",
   "execution_count": 1,
   "metadata": {
    "scrolled": true
   },
   "outputs": [
    {
     "name": "stdout",
     "output_type": "stream",
     "text": [
      "Looking in indexes: https://test.pypi.org/simple/\n",
      "Requirement already satisfied: bci4als in c:\\users\\lenovo\\pycharmprojects\\bci-4-als\\src (0.1.1)\n",
      "Requirement already satisfied: numpy in c:\\users\\lenovo\\anaconda3\\lib\\site-packages (from bci4als) (1.16.5)\n",
      "Requirement already satisfied: pandas in c:\\users\\lenovo\\anaconda3\\lib\\site-packages (from bci4als) (0.25.1)\n",
      "Requirement already satisfied: sklearn in c:\\users\\lenovo\\anaconda3\\lib\\site-packages (from bci4als) (0.0)\n",
      "Requirement already satisfied: mne in c:\\users\\lenovo\\anaconda3\\lib\\site-packages (from bci4als) (0.22.0)\n",
      "Requirement already satisfied: mne-features in c:\\users\\lenovo\\anaconda3\\lib\\site-packages (from bci4als) (0.1)\n",
      "Requirement already satisfied: psychopy in c:\\users\\lenovo\\anaconda3\\lib\\site-packages (from bci4als) (2020.2.10)\n",
      "Requirement already satisfied: pyyaml in c:\\users\\lenovo\\anaconda3\\lib\\site-packages (from bci4als) (5.1.2)\n",
      "Requirement already satisfied: pyxdf in c:\\users\\lenovo\\anaconda3\\lib\\site-packages (from bci4als) (1.16.3)\n",
      "Requirement already satisfied: pytz>=2017.2 in c:\\users\\lenovo\\anaconda3\\lib\\site-packages (from pandas->bci4als) (2019.3)\n",
      "Requirement already satisfied: python-dateutil>=2.6.1 in c:\\users\\lenovo\\anaconda3\\lib\\site-packages (from pandas->bci4als) (2.8.0)\n",
      "Requirement already satisfied: scikit-learn in c:\\users\\lenovo\\anaconda3\\lib\\site-packages (from sklearn->bci4als) (0.21.3)\n",
      "Requirement already satisfied: scipy>=0.17.1 in c:\\users\\lenovo\\anaconda3\\lib\\site-packages (from mne->bci4als) (1.5.4)\n",
      "Requirement already satisfied: numba in c:\\users\\lenovo\\anaconda3\\lib\\site-packages (from mne-features->bci4als) (0.45.1)\n",
      "Requirement already satisfied: PyWavelets in c:\\users\\lenovo\\anaconda3\\lib\\site-packages (from mne-features->bci4als) (1.0.3)\n",
      "Requirement already satisfied: pypiwin32; platform_system == \"Windows\" in c:\\users\\lenovo\\anaconda3\\lib\\site-packages (from psychopy->bci4als) (223)\n",
      "Requirement already satisfied: openpyxl in c:\\users\\lenovo\\anaconda3\\lib\\site-packages (from psychopy->bci4als) (3.0.0)\n",
      "Requirement already satisfied: pyglet>=1.3; python_version < \"3.8\" in c:\\users\\lenovo\\anaconda3\\lib\\site-packages (from psychopy->bci4als) (1.4.10)\n",
      "Requirement already satisfied: tables in c:\\users\\lenovo\\anaconda3\\lib\\site-packages (from psychopy->bci4als) (3.5.2)\n",
      "Requirement already satisfied: python-gitlab in c:\\users\\lenovo\\anaconda3\\lib\\site-packages (from psychopy->bci4als) (2.5.0)\n",
      "Requirement already satisfied: python-bidi in c:\\users\\lenovo\\anaconda3\\lib\\site-packages (from psychopy->bci4als) (0.4.2)\n",
      "Requirement already satisfied: msgpack in c:\\users\\lenovo\\anaconda3\\lib\\site-packages (from psychopy->bci4als) (0.6.1)\n",
      "Requirement already satisfied: pyWinhook; platform_system == \"Windows\" in c:\\users\\lenovo\\anaconda3\\lib\\site-packages (from psychopy->bci4als) (1.6.2)\n",
      "Requirement already satisfied: pyqmix>=2018.12.13; platform_system == \"Windows\" in c:\\users\\lenovo\\anaconda3\\lib\\site-packages (from psychopy->bci4als) (2019.1)\n",
      "Requirement already satisfied: gitpython in c:\\users\\lenovo\\anaconda3\\lib\\site-packages (from psychopy->bci4als) (3.1.11)\n",
      "Requirement already satisfied: pyopengl in c:\\users\\lenovo\\anaconda3\\lib\\site-packages (from psychopy->bci4als) (3.1.5)\n",
      "Requirement already satisfied: xlrd in c:\\users\\lenovo\\anaconda3\\lib\\site-packages (from psychopy->bci4als) (1.2.0)\n",
      "Requirement already satisfied: glfw in c:\\users\\lenovo\\anaconda3\\lib\\site-packages (from psychopy->bci4als) (2.0.0)\n",
      "Requirement already satisfied: sounddevice in c:\\users\\lenovo\\anaconda3\\lib\\site-packages (from psychopy->bci4als) (0.4.1)\n",
      "Requirement already satisfied: pillow in c:\\users\\lenovo\\anaconda3\\lib\\site-packages (from psychopy->bci4als) (6.2.0)\n",
      "Requirement already satisfied: gevent in c:\\users\\lenovo\\anaconda3\\lib\\site-packages (from psychopy->bci4als) (1.4.0)\n",
      "Requirement already satisfied: imageio-ffmpeg; python_version >= \"3\" in c:\\users\\lenovo\\anaconda3\\lib\\site-packages (from psychopy->bci4als) (0.4.2)\n",
      "Requirement already satisfied: wxPython!=4.0.2,!=4.0.3; platform_system != \"Linux\" in c:\\users\\lenovo\\anaconda3\\lib\\site-packages (from psychopy->bci4als) (4.1.1)\n",
      "Requirement already satisfied: pyosf in c:\\users\\lenovo\\anaconda3\\lib\\site-packages (from psychopy->bci4als) (1.0.5)\n",
      "Requirement already satisfied: msgpack-numpy in c:\\users\\lenovo\\anaconda3\\lib\\site-packages (from psychopy->bci4als) (0.4.7.1)\n",
      "Requirement already satisfied: imageio>=2.5; python_version >= \"3\" in c:\\users\\lenovo\\anaconda3\\lib\\site-packages (from psychopy->bci4als) (2.6.0)\n",
      "Requirement already satisfied: freetype-py in c:\\users\\lenovo\\anaconda3\\lib\\site-packages (from psychopy->bci4als) (2.2.0)\n",
      "Requirement already satisfied: json-tricks in c:\\users\\lenovo\\anaconda3\\lib\\site-packages (from psychopy->bci4als) (3.15.5)\n",
      "Requirement already satisfied: requests[security] in c:\\users\\lenovo\\anaconda3\\lib\\site-packages (from psychopy->bci4als) (2.22.0)\n",
      "Requirement already satisfied: psutil in c:\\users\\lenovo\\anaconda3\\lib\\site-packages (from psychopy->bci4als) (5.6.3)\n",
      "Requirement already satisfied: pyzmq in c:\\users\\lenovo\\anaconda3\\lib\\site-packages (from psychopy->bci4als) (18.1.0)\n",
      "Requirement already satisfied: astunparse in c:\\users\\lenovo\\anaconda3\\lib\\site-packages (from psychopy->bci4als) (1.6.3)\n",
      "Requirement already satisfied: arabic-reshaper in c:\\users\\lenovo\\anaconda3\\lib\\site-packages (from psychopy->bci4als) (2.1.1)\n",
      "Requirement already satisfied: moviepy in c:\\users\\lenovo\\anaconda3\\lib\\site-packages (from psychopy->bci4als) (1.0.3)\n",
      "Requirement already satisfied: javascripthon; python_version >= \"3.5\" in c:\\users\\lenovo\\anaconda3\\lib\\site-packages (from psychopy->bci4als) (0.11)\n",
      "Requirement already satisfied: matplotlib in c:\\users\\lenovo\\anaconda3\\lib\\site-packages (from psychopy->bci4als) (3.1.1)\n",
      "Requirement already satisfied: jedi>=0.15.2 in c:\\users\\lenovo\\anaconda3\\lib\\site-packages (from psychopy->bci4als) (0.17.2)\n",
      "Requirement already satisfied: questplus>=2019.3; python_version >= \"3.6\" in c:\\users\\lenovo\\anaconda3\\lib\\site-packages (from psychopy->bci4als) (2019.4)\n",
      "Requirement already satisfied: esprima in c:\\users\\lenovo\\anaconda3\\lib\\site-packages (from psychopy->bci4als) (4.0.1)\n",
      "Requirement already satisfied: future in c:\\users\\lenovo\\anaconda3\\lib\\site-packages (from psychopy->bci4als) (0.17.1)\n",
      "Requirement already satisfied: websocket-client in c:\\users\\lenovo\\anaconda3\\lib\\site-packages (from psychopy->bci4als) (0.57.0)\n",
      "Requirement already satisfied: pyserial in c:\\users\\lenovo\\anaconda3\\lib\\site-packages (from psychopy->bci4als) (3.5)\n",
      "Requirement already satisfied: soundfile in c:\\users\\lenovo\\anaconda3\\lib\\site-packages (from psychopy->bci4als) (0.10.3.post1)\n",
      "Requirement already satisfied: six>=1.5 in c:\\users\\lenovo\\anaconda3\\lib\\site-packages (from python-dateutil>=2.6.1->pandas->bci4als) (1.12.0)\n",
      "Requirement already satisfied: joblib>=0.11 in c:\\users\\lenovo\\anaconda3\\lib\\site-packages (from scikit-learn->sklearn->bci4als) (0.13.2)\n",
      "Requirement already satisfied: llvmlite>=0.29.0dev0 in c:\\users\\lenovo\\anaconda3\\lib\\site-packages (from numba->mne-features->bci4als) (0.29.0)\n",
      "Requirement already satisfied: pywin32>=223 in c:\\users\\lenovo\\anaconda3\\lib\\site-packages (from pypiwin32; platform_system == \"Windows\"->psychopy->bci4als) (223)\n",
      "Requirement already satisfied: jdcal in c:\\users\\lenovo\\anaconda3\\lib\\site-packages (from openpyxl->psychopy->bci4als) (1.4.1)\n",
      "Requirement already satisfied: et-xmlfile in c:\\users\\lenovo\\anaconda3\\lib\\site-packages (from openpyxl->psychopy->bci4als) (1.0.1)\n",
      "Requirement already satisfied: numexpr>=2.6.2 in c:\\users\\lenovo\\anaconda3\\lib\\site-packages (from tables->psychopy->bci4als) (2.7.0)\n",
      "Requirement already satisfied: mock>=2.0 in c:\\users\\lenovo\\anaconda3\\lib\\site-packages (from tables->psychopy->bci4als) (3.0.5)\n",
      "Requirement already satisfied: cffi in c:\\users\\lenovo\\anaconda3\\lib\\site-packages (from pyqmix>=2018.12.13; platform_system == \"Windows\"->psychopy->bci4als) (1.12.3)\n",
      "Requirement already satisfied: appdirs in c:\\users\\lenovo\\anaconda3\\lib\\site-packages (from pyqmix>=2018.12.13; platform_system == \"Windows\"->psychopy->bci4als) (1.4.4)\n",
      "Requirement already satisfied: ruamel.yaml in c:\\users\\lenovo\\anaconda3\\lib\\site-packages (from pyqmix>=2018.12.13; platform_system == \"Windows\"->psychopy->bci4als) (0.16.12)\n",
      "Requirement already satisfied: gitdb<5,>=4.0.1 in c:\\users\\lenovo\\anaconda3\\lib\\site-packages (from gitpython->psychopy->bci4als) (4.0.5)\n",
      "Requirement already satisfied: greenlet>=0.4.14 in c:\\users\\lenovo\\anaconda3\\lib\\site-packages (from gevent->psychopy->bci4als) (0.4.15)\n",
      "Requirement already satisfied: certifi>=2017.4.17 in c:\\users\\lenovo\\anaconda3\\lib\\site-packages (from requests[security]->psychopy->bci4als) (2020.12.5)\n",
      "Requirement already satisfied: idna<2.9,>=2.5 in c:\\users\\lenovo\\anaconda3\\lib\\site-packages (from requests[security]->psychopy->bci4als) (2.8)\n",
      "Requirement already satisfied: chardet<3.1.0,>=3.0.2 in c:\\users\\lenovo\\anaconda3\\lib\\site-packages (from requests[security]->psychopy->bci4als) (3.0.4)\n",
      "Requirement already satisfied: urllib3!=1.25.0,!=1.25.1,<1.26,>=1.21.1 in c:\\users\\lenovo\\anaconda3\\lib\\site-packages (from requests[security]->psychopy->bci4als) (1.24.2)\n",
      "Requirement already satisfied: pyOpenSSL>=0.14; extra == \"security\" in c:\\users\\lenovo\\anaconda3\\lib\\site-packages (from requests[security]->psychopy->bci4als) (19.0.0)\n",
      "Requirement already satisfied: cryptography>=1.3.4; extra == \"security\" in c:\\users\\lenovo\\anaconda3\\lib\\site-packages (from requests[security]->psychopy->bci4als) (2.7)\n",
      "Requirement already satisfied: wheel<1.0,>=0.23.0 in c:\\users\\lenovo\\anaconda3\\lib\\site-packages (from astunparse->psychopy->bci4als) (0.33.6)\n",
      "Requirement already satisfied: setuptools in c:\\users\\lenovo\\anaconda3\\lib\\site-packages (from arabic-reshaper->psychopy->bci4als) (41.4.0)\n",
      "Requirement already satisfied: tqdm<5.0,>=4.11.2 in c:\\users\\lenovo\\anaconda3\\lib\\site-packages (from moviepy->psychopy->bci4als) (4.36.1)\n",
      "Requirement already satisfied: proglog<=1.0.0 in c:\\users\\lenovo\\anaconda3\\lib\\site-packages (from moviepy->psychopy->bci4als) (0.1.9)\n",
      "Requirement already satisfied: decorator<5.0,>=4.0.2 in c:\\users\\lenovo\\anaconda3\\lib\\site-packages (from moviepy->psychopy->bci4als) (4.4.0)\n",
      "Requirement already satisfied: macropy3==1.1.0b2 in c:\\users\\lenovo\\anaconda3\\lib\\site-packages (from javascripthon; python_version >= \"3.5\"->psychopy->bci4als) (1.1.0b2)\n",
      "Requirement already satisfied: dukpy in c:\\users\\lenovo\\anaconda3\\lib\\site-packages (from javascripthon; python_version >= \"3.5\"->psychopy->bci4als) (0.2.3)\n",
      "Requirement already satisfied: cycler>=0.10 in c:\\users\\lenovo\\anaconda3\\lib\\site-packages (from matplotlib->psychopy->bci4als) (0.10.0)\n",
      "Requirement already satisfied: kiwisolver>=1.0.1 in c:\\users\\lenovo\\anaconda3\\lib\\site-packages (from matplotlib->psychopy->bci4als) (1.1.0)\n",
      "Requirement already satisfied: pyparsing!=2.0.4,!=2.1.2,!=2.1.6,>=2.0.1 in c:\\users\\lenovo\\anaconda3\\lib\\site-packages (from matplotlib->psychopy->bci4als) (2.4.2)\n",
      "Requirement already satisfied: parso<0.8.0,>=0.7.0 in c:\\users\\lenovo\\anaconda3\\lib\\site-packages (from jedi>=0.15.2->psychopy->bci4als) (0.7.1)\n",
      "Requirement already satisfied: xarray in c:\\users\\lenovo\\anaconda3\\lib\\site-packages (from questplus>=2019.3; python_version >= \"3.6\"->psychopy->bci4als) (0.16.2)\n",
      "Requirement already satisfied: pycparser in c:\\users\\lenovo\\anaconda3\\lib\\site-packages (from cffi->pyqmix>=2018.12.13; platform_system == \"Windows\"->psychopy->bci4als) (2.19)\n",
      "Requirement already satisfied: ruamel.yaml.clib>=0.1.2; platform_python_implementation == \"CPython\" and python_version < \"3.9\" in c:\\users\\lenovo\\anaconda3\\lib\\site-packages (from ruamel.yaml->pyqmix>=2018.12.13; platform_system == \"Windows\"->psychopy->bci4als) (0.2.2)\n",
      "Requirement already satisfied: smmap<4,>=3.0.1 in c:\\users\\lenovo\\anaconda3\\lib\\site-packages (from gitdb<5,>=4.0.1->gitpython->psychopy->bci4als) (3.0.4)\n",
      "Requirement already satisfied: asn1crypto>=0.21.0 in c:\\users\\lenovo\\anaconda3\\lib\\site-packages (from cryptography>=1.3.4; extra == \"security\"->requests[security]->psychopy->bci4als) (1.0.1)\n"
     ]
    }
   ],
   "source": [
    "# !pip install -i https://test.pypi.org/simple/ bci4als;"
   ]
  },
  {
   "cell_type": "markdown",
   "metadata": {},
   "source": [
    "The main codebase lies in the `bci4als.MI` module:"
   ]
  },
  {
   "cell_type": "code",
   "execution_count": 2,
   "metadata": {
    "pycharm": {
     "name": "#%% code\n"
    },
    "scrolled": true
   },
   "outputs": [
    {
     "name": "stderr",
     "output_type": "stream",
     "text": [
      "C:\\Users\\lenovo\\Anaconda3\\lib\\site-packages\\sklearn\\externals\\joblib\\__init__.py:15: DeprecationWarning: sklearn.externals.joblib is deprecated in 0.21 and will be removed in 0.23. Please import this functionality directly from joblib, which can be installed with: pip install joblib. If this warning is raised when loading pickled models, you may need to re-serialize those models with scikit-learn 0.21+.\n",
      "  warnings.warn(msg, category=DeprecationWarning)\n"
     ]
    },
    {
     "ename": "ModuleNotFoundError",
     "evalue": "No module named 'bci4als.mi.test_model'",
     "output_type": "error",
     "traceback": [
      "\u001B[1;31m---------------------------------------------------------------------------\u001B[0m",
      "\u001B[1;31mModuleNotFoundError\u001B[0m                       Traceback (most recent call last)",
      "\u001B[1;32m<ipython-input-2-5f04ac2b3943>\u001B[0m in \u001B[0;36m<module>\u001B[1;34m\u001B[0m\n\u001B[0;32m      6\u001B[0m \u001B[1;32mimport\u001B[0m \u001B[0mmne\u001B[0m\u001B[1;33m\u001B[0m\u001B[1;33m\u001B[0m\u001B[0m\n\u001B[0;32m      7\u001B[0m \u001B[1;32mimport\u001B[0m \u001B[0mpickle\u001B[0m\u001B[1;33m\u001B[0m\u001B[1;33m\u001B[0m\u001B[0m\n\u001B[1;32m----> 8\u001B[1;33m \u001B[1;32mimport\u001B[0m \u001B[0mbci4als\u001B[0m\u001B[1;33m.\u001B[0m\u001B[0mmi\u001B[0m \u001B[1;32mas\u001B[0m \u001B[0mmi\u001B[0m\u001B[1;33m\u001B[0m\u001B[1;33m\u001B[0m\u001B[0m\n\u001B[0m\u001B[0;32m      9\u001B[0m \u001B[1;33m\u001B[0m\u001B[0m\n\u001B[0;32m     10\u001B[0m \u001B[1;33m\u001B[0m\u001B[0m\n",
      "\u001B[1;32mc:\\users\\lenovo\\pycharmprojects\\bci-4-als\\src\\bci4als\\mi\\__init__.py\u001B[0m in \u001B[0;36m<module>\u001B[1;34m\u001B[0m\n\u001B[0;32m      4\u001B[0m \u001B[1;32mfrom\u001B[0m \u001B[1;33m.\u001B[0m\u001B[0mextract_features\u001B[0m \u001B[1;32mimport\u001B[0m \u001B[0mextract_features\u001B[0m\u001B[1;33m\u001B[0m\u001B[1;33m\u001B[0m\u001B[0m\n\u001B[0;32m      5\u001B[0m \u001B[1;32mfrom\u001B[0m \u001B[1;33m.\u001B[0m\u001B[0massess_model\u001B[0m \u001B[1;32mimport\u001B[0m \u001B[0mtrain_model\u001B[0m\u001B[1;33m\u001B[0m\u001B[1;33m\u001B[0m\u001B[0m\n\u001B[1;32m----> 6\u001B[1;33m \u001B[1;32mfrom\u001B[0m \u001B[1;33m.\u001B[0m\u001B[0mtest_model\u001B[0m \u001B[1;32mimport\u001B[0m \u001B[0mtest_model\u001B[0m\u001B[1;33m\u001B[0m\u001B[1;33m\u001B[0m\u001B[0m\n\u001B[0m\u001B[0;32m      7\u001B[0m \u001B[1;33m\u001B[0m\u001B[0m\n",
      "\u001B[1;31mModuleNotFoundError\u001B[0m: No module named 'bci4als.mi.test_model'"
     ]
    }
   ],
   "source": [
    "import warnings\n",
    "warnings.filterwarnings(\"ignore\")\n",
    "\n",
    "import numpy as np\n",
    "import matplotlib.pyplot as plt\n",
    "import mne\n",
    "import pickle\n",
    "import bci4als.mi as mi\n"
   ]
  },
  {
   "cell_type": "markdown",
   "metadata": {},
   "source": [
    "## Part 1 - End-to-End Walkthrough\n",
    "\n",
    "We will now guide you how to use the `bci4als` pipeline from end to end.\n",
    "\n",
    "<B>Note:</B>\n",
    "All the scripts share common configuration parameters, which are stored in a multi-level `dict` object called `mi.params`. The first-layer keys indicate the category of parameters:"
   ]
  },
  {
   "cell_type": "code",
   "execution_count": null,
   "metadata": {
    "pycharm": {
     "name": "#%% code\n"
    }
   },
   "outputs": [],
   "source": [
    "params = mi.params\n",
    "params.keys()"
   ]
  },
  {
   "cell_type": "markdown",
   "metadata": {},
   "source": [
    "For example, to see the parameters related to preprocessing:"
   ]
  },
  {
   "cell_type": "code",
   "execution_count": null,
   "metadata": {},
   "outputs": [],
   "source": [
    "preprocess_params = params['preprocess']\n",
    "print('\\n'.join('{}: {}'.format(k, v) for k, v in preprocess_params.items()))"
   ]
  },
  {
   "cell_type": "markdown",
   "metadata": {
    "pycharm": {
     "name": "#%% md\n"
    }
   },
   "source": [
    "### Step 1 - Record Experiment\n",
    "The `bci4als.mi.record` module is responsible for executing a Motor Imagery experiment and recording the stimulus.\n",
    "\n",
    "The `bci4als.mi.record.start()` function starts an interactive GUI which will guide you through executing a MI experiment. It assumes you:\n",
    "\n",
    "1) have an external application streaming EEG data (via LSL) to Lab Recorder.\n",
    "\n",
    "2) have a `CurrentStudy` directory into which the collected data will be saved.\n",
    "\n",
    "3) opened `LabRecorder`.\n",
    "\n",
    "Once you are ready, begin recording:|"
   ]
  },
  {
   "cell_type": "code",
   "execution_count": null,
   "metadata": {},
   "outputs": [],
   "source": [
    "# call this method to start a recording:\n",
    "# mi.record.start()"
   ]
  },
  {
   "cell_type": "markdown",
   "metadata": {},
   "source": [
    "Now follow the following steps:\n",
    "\n",
    "1) You should see a \"Welcome\" messagebox. Press \"OK\" to continue.\n",
    "\n",
    "2) Select the CurrentStudy folder.\n",
    "\n",
    "3) Type a new Session ID (this will be the name of the folder). Press \"OK\" to continue.\n",
    "\n",
    "4) You should a confirmation messabox. Press \"OK\" to continue.\n",
    "\n",
    "5) Point the LabRecorder to the folder created at step 3. Set the name of the file EEG.xdf\n",
    "\n",
    "6) <B> Make sure you are prepared to begin the motor imagery experiment. </B>Press \"OK\" to begin the trials.\n",
    "\n",
    "7) After the experiment, press \"OK\" to close the program.\n",
    "\n",
    "\n",
    "Lab Recorder will generate the `EEG.xdf` file which contains the EEG and markers recording. It can be read with pyxdf.\n",
    "\n",
    "Python will generate `stimulus_vector.csv`, which contains the labels for each trial.\n"
   ]
  },
  {
   "cell_type": "markdown",
   "metadata": {
    "pycharm": {
     "name": "#%% md\n"
    }
   },
   "source": [
    "### Step 2 - Data Preprocessing\n",
    "\n",
    "The `preprocess.py` script is responsible for cleaning the data.\n",
    "\n",
    "Currently, the pre-processing script uses low-pass, high-pass and notch filters to clean the data.\n",
    "\n",
    "The parameters for the filters are also part of the `params` object:"
   ]
  },
  {
   "cell_type": "code",
   "execution_count": null,
   "metadata": {},
   "outputs": [],
   "source": [
    "params['preprocess']['filter']"
   ]
  },
  {
   "cell_type": "markdown",
   "metadata": {},
   "source": [
    "The script will output an `EEG_clean.csv` file, which contains the EEG data\n",
    "after the pre-processing. Additionally, the script exports a `.info` json file. The `.info` file\n",
    "contains all the info about the EEG stream. `extract_features.py` uses the info of the streaming.\n",
    "The output is automatically saved in the data directory.\n",
    "\n",
    "Let's plot the clean EEG data:"
   ]
  },
  {
   "cell_type": "code",
   "execution_count": null,
   "metadata": {
    "pycharm": {
     "name": "#%% code\n"
    }
   },
   "outputs": [],
   "source": [
    "#------- todo: find out if this is a normal psd plot ------\n",
    "\n",
    "# Params\n",
    "eeg_clean_path = '../data/noam/2/EEG_clean.csv'\n",
    "ch_names = ['C03', 'C04', 'P07', 'P089', 'O01', 'O02', 'F07', 'F08', 'F03', 'F04', 'T07', 'T08', 'P03']\n",
    "s_rate = 125\n",
    "\n",
    "# Create mne info & raw\n",
    "eeg_clean = np.genfromtxt(eeg_clean_path, delimiter=',', skip_header=1)[:, 1:]\n",
    "info = mne.create_info(ch_names, s_rate, verbose=False)\n",
    "raw_eeg_clean = mne.io.RawArray(eeg_clean.T, info, verbose=False)\n",
    "\n",
    "# Plot\n",
    "fig = raw_eeg_clean.plot_psd(picks=ch_names, show=False)"
   ]
  },
  {
   "cell_type": "markdown",
   "metadata": {},
   "source": [
    "### Step 3 - Data Segmentation\n",
    "\n",
    "In the `segment_data.py` script we split the data for each trial.\n",
    "The start and end of each trial is according to the markers streaming we created\n",
    "while recording the EEG. The script gets the subject folder from the config file\n",
    "(under `config['data']['subject_folder']`) and splits for trial each\n",
    "EEG record in each day.\n",
    "\n",
    "The output of MI3 script is a pickle file named `EEG_trials.pickle` which\n",
    "located in the corresponded day directory. The file is a list with ndarray\n",
    "where each ndarray is the corresponded EEG data of the trial."
   ]
  },
  {
   "cell_type": "code",
   "execution_count": null,
   "metadata": {
    "pycharm": {
     "name": "#%% code\n"
    }
   },
   "outputs": [],
   "source": [
    "eeg_trials_path = '../data/noam/3/EEG_trials.pickle'\n",
    "eeg_trials = pickle.load(open(eeg_trials_path, 'rb'))\n",
    "\n",
    "print('Number of trials: {}\\nTrials dimensions: {}'.format(len(eeg_trials), eeg_trials[0].shape))"
   ]
  },
  {
   "cell_type": "markdown",
   "metadata": {},
   "source": [
    "And a PSD plot of a specific trial look like:\n"
   ]
  },
  {
   "cell_type": "code",
   "execution_count": null,
   "metadata": {
    "pycharm": {
     "name": "#%% code\n"
    }
   },
   "outputs": [],
   "source": [
    "eeg_trial = mne.io.RawArray(eeg_trials[103].T, info, verbose=False)\n",
    "fig = eeg_trial.plot_psd(picks=ch_names)"
   ]
  },
  {
   "cell_type": "markdown",
   "metadata": {},
   "source": [
    "### Step 4 - Feature Extraction\n"
   ]
  },
  {
   "cell_type": "markdown",
   "metadata": {},
   "source": [
    "### Step 5 - Train and Test a Model\n",
    "mi.ass"
   ]
  },
  {
   "cell_type": "markdown",
   "metadata": {},
   "source": [
    "## Part 2: Experiment with ResNET Features\n",
    "In this part we use the RESNet Feature Extraction."
   ]
  },
  {
   "cell_type": "code",
   "execution_count": null,
   "metadata": {},
   "outputs": [],
   "source": []
  }
 ],
 "metadata": {
  "kernelspec": {
   "display_name": "Python 3",
   "language": "python",
   "name": "python3"
  },
  "language_info": {
   "codemirror_mode": {
    "name": "ipython",
    "version": 3
   },
   "file_extension": ".py",
   "mimetype": "text/x-python",
   "name": "python",
   "nbconvert_exporter": "python",
   "pygments_lexer": "ipython3",
   "version": "3.7.9"
  },
  "toc": {
   "base_numbering": 1,
   "nav_menu": {},
   "number_sections": false,
   "sideBar": true,
   "skip_h1_title": true,
   "title_cell": "Table of Contents",
   "title_sidebar": "Contents",
   "toc_cell": false,
   "toc_position": {},
   "toc_section_display": true,
   "toc_window_display": false
  }
 },
 "nbformat": 4,
 "nbformat_minor": 1
}