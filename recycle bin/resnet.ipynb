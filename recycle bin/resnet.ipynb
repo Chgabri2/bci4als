{
 "cells": [
  {
   "cell_type": "markdown",
   "source": [
    "# STEP 5 - START\n",
    "\n",
    "The next script is concentrates on train and test model.\n",
    "The main function in this module is the `train()` function.\n",
    "The function get 2 arguments - `mode` and `model_name`.\n",
    "\n",
    "The `mode` argument decide how to treat the different days in the subject folder.\n",
    "Because the the data was recorded on different days with different environmental\n",
    "variables we expect it to be different. We can't train a model on the first day and\n",
    "expect for good results on the other days. So we created 3 different modes\n",
    "for splitting the data into train and test:\n",
    "\n",
    "1. `same_day` - on the `same_day` mode the data will be split for each day\n",
    "separately. Each day will have his own train and test data according to the\n",
    "train ratio which can be found in the config file. Hence, the model will be train\n",
    "on the data from the current day and also will be test on it.\n",
    "\n",
    "1. `first_day` - on this procedure the model will be train only on the first day and will be\n",
    "test on the other days.\n",
    "\n",
    "1. `adjust` - on the adjust mode the model will be trained each day on\n",
    "the first day with couple more data samples from the current day. In this mode\n",
    "we using previous data in each day and there is no need to train model from sketch.\n",
    "\n",
    "The second argument in the function, i.e., `model_name` represent the name of the ML model\n",
    "which will be used to classify. Currently we implemented SVM, KNN and Random Forest models,\n",
    "but every developer can easily add his desirable model to the function.\n",
    "\n",
    "An example for using the `train()` function is:\n",
    "\n",
    "```{python}\n",
    "mi.assess_model.train(mode='same day', model='svm')\n",
    "```\n",
    "\n",
    "## Results\n",
    "\n",
    "\n",
    "# RESNET CONTINUE\n",
    "Now the full pipeline using ResNet as feature extractor should look like:\n",
    "\n",
    "```{python}\n",
    "# Assuming you already record an experiment\n",
    "\n",
    "mi.preprocess.preprocess()\n",
    "\n",
    "mi.segment_data.segment_data()\n",
    "\n",
    "mi.extract_features.extract(mode='cnn')\n",
    "\n",
    "mi.assess_model.train('same day', 'svm')\n",
    "```\n",
    "\n",
    "Now let's look at the results of the ResNet performance:"
   ],
   "metadata": {
    "collapsed": false,
    "pycharm": {
     "name": "#%% md\n"
    }
   }
  },
  {
   "cell_type": "code",
   "execution_count": null,
   "outputs": [],
   "source": [],
   "metadata": {
    "collapsed": false,
    "pycharm": {
     "name": "#%%\n"
    }
   }
  }
 ],
 "metadata": {
  "kernelspec": {
   "display_name": "Python 3",
   "language": "python",
   "name": "python3"
  },
  "language_info": {
   "codemirror_mode": {
    "name": "ipython",
    "version": 2
   },
   "file_extension": ".py",
   "mimetype": "text/x-python",
   "name": "python",
   "nbconvert_exporter": "python",
   "pygments_lexer": "ipython2",
   "version": "2.7.6"
  }
 },
 "nbformat": 4,
 "nbformat_minor": 0
}